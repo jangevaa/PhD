{
 "metadata": {
  "name": "",
  "signature": "sha256:6e643e4f3a994616cfe53e2cb54ae1f4ab38c49bafe06e119c27fe1fa4b67ba8"
 },
 "nbformat": 3,
 "nbformat_minor": 0,
 "worksheets": [
  {
   "cells": [
    {
     "cell_type": "markdown",
     "metadata": {},
     "source": [
      "Load ilmtools, and any other necessary libraries "
     ]
    },
    {
     "cell_type": "code",
     "collapsed": false,
     "input": [
      "%matplotlib inline\n",
      "import ilmtools as ilm\n",
      "import time\n",
      "import numpy as np"
     ],
     "language": "python",
     "metadata": {},
     "outputs": [],
     "prompt_number": 1
    },
    {
     "cell_type": "markdown",
     "metadata": {},
     "source": [
      "Generate a population (n=100) with a uniform spatial distribution with bounds x=(0,10), y=(0,10)"
     ]
    },
    {
     "cell_type": "code",
     "collapsed": false,
     "input": [
      "n=100\n",
      "xbounds=[0,10]\n",
      "ybounds=[0,10]\n",
      "pop = ilm.unif_indvs(n, xbounds[0], xbounds[1], ybounds[0], ybounds[1], 'example_pop')"
     ],
     "language": "python",
     "metadata": {},
     "outputs": [],
     "prompt_number": 2
    },
    {
     "cell_type": "markdown",
     "metadata": {},
     "source": [
      "Propagate an infectious disease over 10 days through the previously defined population with alpha=2, beta=15, from a single initial infection"
     ]
    },
    {
     "cell_type": "code",
     "collapsed": false,
     "input": [
      "initial_infections = 1\n",
      "timesteps = 10\n",
      "true_alpha = 2\n",
      "true_beta = 15\n",
      "infect_db = ilm.si_model(pop, initial_infections, timesteps, true_alpha, true_beta)"
     ],
     "language": "python",
     "metadata": {},
     "outputs": [],
     "prompt_number": 3
    },
    {
     "cell_type": "markdown",
     "metadata": {},
     "source": [
      "Visualize outbreak at any time point, e.g. day 8"
     ]
    },
    {
     "cell_type": "code",
     "collapsed": false,
     "input": [
      "ilm.plot_si(pop, infect_db, 8)"
     ],
     "language": "python",
     "metadata": {},
     "outputs": [
      {
       "metadata": {},
       "output_type": "display_data",
       "png": "[encoded data removed]",
       "text": [
        "<matplotlib.figure.Figure at 0x10ed699d0>"
       ]
      }
     ],
     "prompt_number": 4
    },
    {
     "cell_type": "markdown",
     "metadata": {},
     "source": [
      "Visualize epidemic curve"
     ]
    },
    {
     "cell_type": "code",
     "collapsed": false,
     "input": [
      "ilm.epi_curve(infect_db)"
     ],
     "language": "python",
     "metadata": {},
     "outputs": [
      {
       "metadata": {},
       "output_type": "display_data",
       "png": "[encoded data removed]",
       "text": [
        "<matplotlib.figure.Figure at 0x10ed8c850>"
       ]
      }
     ],
     "prompt_number": 6
    },
    {
     "cell_type": "markdown",
     "metadata": {},
     "source": [
      "Define prior distributions for SI model parameters alpha and beta, and perform Bayesian inference using MCMC (initial run of 1000 iterations), and report the time required for computation"
     ]
    },
    {
     "cell_type": "code",
     "collapsed": false,
     "input": [
      "def prior_alpha(x):\n",
      "    return ilm.pdf_gamma(2, 1, x)\n",
      "\n",
      "init_alpha1 = np.random.uniform(0, 10)\n",
      "\n",
      "def prior_beta(x):\n",
      "    return ilm.pdf_gamma(10, 1, x)\n",
      "\n",
      "init_beta1 = np.random.uniform(10, 20)\n",
      "\n",
      "niter1=1000\n",
      "\n",
      "transition_cov = [[1, 0], [0,3]]\n",
      "\n",
      "start_time1=time.time()\n",
      "mcmc1 = ilm.si_infer(pop, infect_db, prior_alpha, init_alpha1, prior_beta, init_beta1, niter1, transition_cov)\n",
      "required_time1=time.time()-start_time1\n",
      "required_time1"
     ],
     "language": "python",
     "metadata": {},
     "outputs": [],
     "prompt_number": 5
    },
    {
     "cell_type": "markdown",
     "metadata": {},
     "source": [
      "Estimate optimal proposal covariance matrix (Rosenthal), and run 1000 more MCMC iterations, initiated at the last value in the initial run"
     ]
    },
    {
     "cell_type": "code",
     "collapsed": false,
     "input": [
      "opt_cov=np.cov(mcmc1.alpha, mcmc1.beta)*((2.38**2.)/2.)\n",
      "\n",
      "niter2=1000\n",
      "\n",
      "init_alpha2 = mcmc1.alpha[999]\n",
      "\n",
      "init_beta2 = mcmc1.beta[999]\n",
      "\n",
      "start_time2=time.time()\n",
      "mcmc2 = ilm.si_infer(pop, infect_db, prior_alpha, init_alpha2, prior_beta, init_beta2, niter2, opt_cov)\n",
      "required_time2=time.time()-start_time2\n",
      "required_time2"
     ],
     "language": "python",
     "metadata": {},
     "outputs": []
    },
    {
     "cell_type": "markdown",
     "metadata": {},
     "source": [
      "Now, produce traceplots of alpha, beta, and posterior density"
     ]
    }
   ],
   "metadata": {}
  }
 ]
}