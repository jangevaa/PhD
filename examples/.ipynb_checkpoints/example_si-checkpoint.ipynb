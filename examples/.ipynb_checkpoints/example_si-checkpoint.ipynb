{
 "metadata": {
  "name": "",
  "signature": "sha256:6938e2d51089da1feb065a03c70a1b3a6af9b132dadc97731cfa0af18281b5d2"
 },
 "nbformat": 3,
 "nbformat_minor": 0,
 "worksheets": []
}