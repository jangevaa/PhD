{
 "metadata": {
  "name": "",
  "signature": "sha256:f068b89c9639f28b6b5206d53bedd97f5a283e16d6e83f62ce2a640812bd2c74"
 },
 "nbformat": 3,
 "nbformat_minor": 0,
 "worksheets": [
  {
   "cells": [
    {
     "cell_type": "heading",
     "level": 1,
     "metadata": {},
     "source": [
      "Load ilmtools, and any other necessary libraries "
     ]
    },
    {
     "cell_type": "code",
     "collapsed": false,
     "input": [
      "import ilmtools as ilm\n",
      "import time\n",
      "import numpy as np"
     ],
     "language": "python",
     "metadata": {},
     "outputs": [],
     "prompt_number": 1
    },
    {
     "cell_type": "heading",
     "level": 1,
     "metadata": {},
     "source": [
      "Generate a population (n=100) with a uniform spatial distribution with bounds x=(0,10), y=(0,10)"
     ]
    },
    {
     "cell_type": "code",
     "collapsed": false,
     "input": [
      "n=100\n",
      "xbounds=[0,10]\n",
      "ybounds=[0,10]\n",
      "pop = ilm.unif_indvs(n, xbounds[0], xbounds[1], ybounds[0], ybounds[1], 'example_pop')"
     ],
     "language": "python",
     "metadata": {},
     "outputs": [],
     "prompt_number": 2
    },
    {
     "cell_type": "heading",
     "level": 1,
     "metadata": {},
     "source": [
      "Propagate an infectious disease over 10 days through the previously defined population with alpha=2, beta=15, from a single initial infection"
     ]
    },
    {
     "cell_type": "code",
     "collapsed": false,
     "input": [
      "initial_infections = 1\n",
      "timesteps = 10\n",
      "true_alpha = 2\n",
      "true_beta = 15\n",
      "infect_db = ilm.si_model(pop, initial_infections, timesteps, true_alpha, true_beta)"
     ],
     "language": "python",
     "metadata": {},
     "outputs": [],
     "prompt_number": 3
    },
    {
     "cell_type": "heading",
     "level": 1,
     "metadata": {},
     "source": [
      "Visualize outbreak at any time point, e.g. day 3"
     ]
    },
    {
     "cell_type": "code",
     "collapsed": false,
     "input": [
      "ilm.plot_si(pop, infect_db, 3)"
     ],
     "language": "python",
     "metadata": {},
     "outputs": [],
     "prompt_number": 4
    },
    {
     "cell_type": "heading",
     "level": 1,
     "metadata": {},
     "source": [
      "Define prior distributions for SI model parameters alpha and beta, and perform Bayesian inference using MCMC (initial run of 1000 iterations)"
     ]
    },
    {
     "cell_type": "code",
     "collapsed": false,
     "input": [
      "def prior_alpha(x):\n",
      "    return ilm.pdf_gamma(2, 1, x)\n",
      "\n",
      "init_alpha = np.random.uniform(0, 10)\n",
      "\n",
      "def prior_beta(x):\n",
      "    return ilm.pdf_gamma(10, 1, x)\n",
      "\n",
      "init_beta = np.random.uniform(10, 20)\n",
      "\n",
      "niter1=1000\n",
      "\n",
      "transition_cov = [[1, 0], [0,3]]\n",
      "\n",
      "start_time=time.time()\n",
      "mcmc1 = ilm.si_infer(pop, infect_db, prior_alpha, init_alpha, prior_beta, init_beta, niter1, transition_cov)\n",
      "required_time=time.time()-start_time"
     ],
     "language": "python",
     "metadata": {},
     "outputs": []
    },
    {
     "cell_type": "code",
     "collapsed": false,
     "input": [],
     "language": "python",
     "metadata": {},
     "outputs": []
    }
   ],
   "metadata": {}
  }
 ]
}